{
 "cells": [
  {
   "cell_type": "code",
   "execution_count": 1,
   "metadata": {},
   "outputs": [
    {
     "name": "stderr",
     "output_type": "stream",
     "text": [
      "Using TensorFlow backend.\n"
     ]
    }
   ],
   "source": [
    "%run project_functions.ipynb"
   ]
  },
  {
   "cell_type": "code",
   "execution_count": 2,
   "metadata": {},
   "outputs": [],
   "source": [
    "file_name = 'FB.txt'\n",
    "csv_name = 'FB.csv'"
   ]
  },
  {
   "cell_type": "code",
   "execution_count": 3,
   "metadata": {},
   "outputs": [],
   "source": [
    "#Features\n",
    "company = stock_twits_text_parser(file_name)\n",
    "company_metrics = stock_twits_metrics(company, 3, file_name)\n",
    "\n",
    "#Labels\n",
    "company_return = return_over_period_T(csv_name,3)\n",
    "\n",
    "#Cleaned Data\n",
    "agg_data = feature_selector(company_metrics, company_return, 'close_return', 25, 1000)\n",
    "company_data = split_data(agg_data, 0.7, 'all', 'close_return', 'bin')\n",
    "\n",
    "#Split\n",
    "X_train = company_data['X_train']\n",
    "Y_train = company_data['Y_train']\n",
    "X_test = company_data['X_test']\n",
    "Y_test = company_data['Y_test']"
   ]
  },
  {
   "cell_type": "code",
   "execution_count": 11,
   "metadata": {},
   "outputs": [
    {
     "name": "stdout",
     "output_type": "stream",
     "text": [
      "Epoch 1/100\n",
      "238/238 [==============================] - 1s 2ms/step - loss: 0.6829 - accuracy: 0.5462\n",
      "Epoch 2/100\n",
      "238/238 [==============================] - 0s 381us/step - loss: 0.6707 - accuracy: 0.5546\n",
      "Epoch 3/100\n",
      "238/238 [==============================] - 0s 282us/step - loss: 0.6541 - accuracy: 0.6134\n",
      "Epoch 4/100\n",
      "238/238 [==============================] - 0s 398us/step - loss: 0.6143 - accuracy: 0.7227\n",
      "Epoch 5/100\n",
      "238/238 [==============================] - 0s 302us/step - loss: 0.5505 - accuracy: 0.8193\n",
      "Epoch 6/100\n",
      "238/238 [==============================] - 0s 352us/step - loss: 0.4438 - accuracy: 0.8613\n",
      "Epoch 7/100\n",
      "238/238 [==============================] - 0s 373us/step - loss: 0.3156 - accuracy: 0.9202\n",
      "Epoch 8/100\n",
      "238/238 [==============================] - 0s 377us/step - loss: 0.2157 - accuracy: 0.9328\n",
      "Epoch 9/100\n",
      "238/238 [==============================] - 0s 318us/step - loss: 0.1331 - accuracy: 0.9874\n",
      "Epoch 10/100\n",
      "238/238 [==============================] - 0s 344us/step - loss: 0.0777 - accuracy: 0.9916\n",
      "Epoch 11/100\n",
      "238/238 [==============================] - 0s 520us/step - loss: 0.0506 - accuracy: 0.9958\n",
      "Epoch 12/100\n",
      "238/238 [==============================] - 0s 356us/step - loss: 0.0325 - accuracy: 0.9958\n",
      "Epoch 13/100\n",
      "238/238 [==============================] - 0s 541us/step - loss: 0.0240 - accuracy: 1.0000\n",
      "Epoch 14/100\n",
      "238/238 [==============================] - 0s 306us/step - loss: 0.0155 - accuracy: 1.0000\n",
      "Epoch 15/100\n",
      "238/238 [==============================] - 0s 436us/step - loss: 0.0103 - accuracy: 1.0000\n",
      "Epoch 16/100\n",
      "238/238 [==============================] - 0s 457us/step - loss: 0.0083 - accuracy: 1.0000\n",
      "Epoch 17/100\n",
      "238/238 [==============================] - 0s 302us/step - loss: 0.0063 - accuracy: 1.0000\n",
      "Epoch 18/100\n",
      "238/238 [==============================] - 0s 289us/step - loss: 0.0054 - accuracy: 1.0000\n",
      "Epoch 19/100\n",
      "238/238 [==============================] - 0s 412us/step - loss: 0.0045 - accuracy: 1.0000\n",
      "Epoch 20/100\n",
      "238/238 [==============================] - 0s 524us/step - loss: 0.0039 - accuracy: 1.0000\n",
      "Epoch 21/100\n",
      "238/238 [==============================] - 0s 318us/step - loss: 0.0034 - accuracy: 1.0000\n",
      "Epoch 22/100\n",
      "238/238 [==============================] - 0s 302us/step - loss: 0.0030 - accuracy: 1.0000\n",
      "Epoch 23/100\n",
      "238/238 [==============================] - 0s 603us/step - loss: 0.0025 - accuracy: 1.0000\n",
      "Epoch 24/100\n",
      "238/238 [==============================] - 0s 289us/step - loss: 0.0024 - accuracy: 1.0000\n",
      "Epoch 25/100\n",
      "238/238 [==============================] - 0s 302us/step - loss: 0.0020 - accuracy: 1.0000\n",
      "Epoch 26/100\n",
      "238/238 [==============================] - 0s 423us/step - loss: 0.0017 - accuracy: 1.0000\n",
      "Epoch 27/100\n",
      "238/238 [==============================] - 0s 377us/step - loss: 0.0015 - accuracy: 1.0000\n",
      "Epoch 28/100\n",
      "238/238 [==============================] - 0s 423us/step - loss: 0.0014 - accuracy: 1.0000\n",
      "Epoch 29/100\n",
      "238/238 [==============================] - 0s 386us/step - loss: 0.0012 - accuracy: 1.0000\n",
      "Epoch 30/100\n",
      "238/238 [==============================] - 0s 268us/step - loss: 0.0011 - accuracy: 1.0000\n",
      "Epoch 31/100\n",
      "238/238 [==============================] - 0s 289us/step - loss: 9.6132e-04 - accuracy: 1.0000\n",
      "Epoch 32/100\n",
      "238/238 [==============================] - 0s 344us/step - loss: 8.6920e-04 - accuracy: 1.0000\n",
      "Epoch 33/100\n",
      "238/238 [==============================] - 0s 293us/step - loss: 7.7588e-04 - accuracy: 1.0000\n",
      "Epoch 34/100\n",
      "238/238 [==============================] - 0s 256us/step - loss: 7.0846e-04 - accuracy: 1.0000\n",
      "Epoch 35/100\n",
      "238/238 [==============================] - 0s 473us/step - loss: 6.3727e-04 - accuracy: 1.0000\n",
      "Epoch 36/100\n",
      "238/238 [==============================] - 0s 377us/step - loss: 5.7448e-04 - accuracy: 1.0000\n",
      "Epoch 37/100\n",
      "238/238 [==============================] - 0s 511us/step - loss: 5.2882e-04 - accuracy: 1.0000\n",
      "Epoch 38/100\n",
      "238/238 [==============================] - 0s 306us/step - loss: 4.8503e-04 - accuracy: 1.0000\n",
      "Epoch 39/100\n",
      "238/238 [==============================] - 0s 323us/step - loss: 4.4113e-04 - accuracy: 1.0000\n",
      "Epoch 40/100\n",
      "238/238 [==============================] - 0s 341us/step - loss: 4.1057e-04 - accuracy: 1.0000\n",
      "Epoch 41/100\n",
      "238/238 [==============================] - 0s 318us/step - loss: 3.7265e-04 - accuracy: 1.0000\n",
      "Epoch 42/100\n",
      "238/238 [==============================] - 0s 309us/step - loss: 3.4671e-04 - accuracy: 1.0000\n",
      "Epoch 43/100\n",
      "238/238 [==============================] - 0s 581us/step - loss: 3.1979e-04 - accuracy: 1.0000\n",
      "Epoch 44/100\n",
      "238/238 [==============================] - 0s 443us/step - loss: 2.9990e-04 - accuracy: 1.0000\n",
      "Epoch 45/100\n",
      "238/238 [==============================] - 0s 289us/step - loss: 2.7972e-04 - accuracy: 1.0000\n",
      "Epoch 46/100\n",
      "238/238 [==============================] - 0s 377us/step - loss: 2.5929e-04 - accuracy: 1.0000\n",
      "Epoch 47/100\n",
      "238/238 [==============================] - 0s 373us/step - loss: 2.4289e-04 - accuracy: 1.0000\n",
      "Epoch 48/100\n",
      "238/238 [==============================] - 0s 507us/step - loss: 2.2536e-04 - accuracy: 1.0000\n",
      "Epoch 49/100\n",
      "238/238 [==============================] - 0s 318us/step - loss: 2.1139e-04 - accuracy: 1.0000\n",
      "Epoch 50/100\n",
      "238/238 [==============================] - 0s 293us/step - loss: 1.9959e-04 - accuracy: 1.0000\n",
      "Epoch 51/100\n",
      "238/238 [==============================] - 0s 305us/step - loss: 1.8858e-04 - accuracy: 1.0000\n",
      "Epoch 52/100\n",
      "238/238 [==============================] - 0s 302us/step - loss: 1.7612e-04 - accuracy: 1.0000\n",
      "Epoch 53/100\n",
      "238/238 [==============================] - 0s 348us/step - loss: 1.6695e-04 - accuracy: 1.0000\n",
      "Epoch 54/100\n",
      "238/238 [==============================] - 0s 285us/step - loss: 1.5804e-04 - accuracy: 1.0000\n",
      "Epoch 55/100\n",
      "238/238 [==============================] - 0s 348us/step - loss: 1.4866e-04 - accuracy: 1.0000\n",
      "Epoch 56/100\n",
      "238/238 [==============================] - 0s 356us/step - loss: 1.4036e-04 - accuracy: 1.0000\n",
      "Epoch 57/100\n",
      "238/238 [==============================] - 0s 352us/step - loss: 1.3445e-04 - accuracy: 1.0000\n",
      "Epoch 58/100\n",
      "238/238 [==============================] - 0s 377us/step - loss: 1.2926e-04 - accuracy: 1.0000\n",
      "Epoch 59/100\n",
      "238/238 [==============================] - 0s 285us/step - loss: 1.2251e-04 - accuracy: 1.0000\n",
      "Epoch 60/100\n",
      "238/238 [==============================] - 0s 248us/step - loss: 1.1538e-04 - accuracy: 1.0000\n",
      "Epoch 61/100\n",
      "238/238 [==============================] - 0s 367us/step - loss: 1.0932e-04 - accuracy: 1.0000\n",
      "Epoch 62/100\n",
      "238/238 [==============================] - 0s 289us/step - loss: 1.0541e-04 - accuracy: 1.0000\n",
      "Epoch 63/100\n",
      "238/238 [==============================] - 0s 419us/step - loss: 1.0047e-04 - accuracy: 1.0000\n",
      "Epoch 64/100\n",
      "238/238 [==============================] - 0s 306us/step - loss: 9.5009e-05 - accuracy: 1.0000\n",
      "Epoch 65/100\n",
      "238/238 [==============================] - 0s 566us/step - loss: 9.1074e-05 - accuracy: 1.0000\n",
      "Epoch 66/100\n",
      "238/238 [==============================] - 0s 411us/step - loss: 8.6721e-05 - accuracy: 1.0000\n",
      "Epoch 67/100\n",
      "238/238 [==============================] - 0s 331us/step - loss: 8.2997e-05 - accuracy: 1.0000\n",
      "Epoch 68/100\n",
      "238/238 [==============================] - 0s 298us/step - loss: 7.9546e-05 - accuracy: 1.0000\n",
      "Epoch 69/100\n",
      "238/238 [==============================] - 0s 520us/step - loss: 7.6894e-05 - accuracy: 1.0000\n",
      "Epoch 70/100\n",
      "238/238 [==============================] - 0s 360us/step - loss: 7.3710e-05 - accuracy: 1.0000\n",
      "Epoch 71/100\n",
      "238/238 [==============================] - 0s 285us/step - loss: 7.0302e-05 - accuracy: 1.0000\n",
      "Epoch 72/100\n",
      "238/238 [==============================] - 0s 445us/step - loss: 6.8459e-05 - accuracy: 1.0000\n",
      "Epoch 73/100\n",
      "238/238 [==============================] - 0s 365us/step - loss: 6.5101e-05 - accuracy: 1.0000\n",
      "Epoch 74/100\n",
      "238/238 [==============================] - 0s 457us/step - loss: 6.2768e-05 - accuracy: 1.0000\n",
      "Epoch 75/100\n",
      "238/238 [==============================] - 0s 335us/step - loss: 6.0842e-05 - accuracy: 1.0000\n",
      "Epoch 76/100\n",
      "238/238 [==============================] - 0s 624us/step - loss: 5.8130e-05 - accuracy: 1.0000\n",
      "Epoch 77/100\n",
      "238/238 [==============================] - 0s 352us/step - loss: 5.7776e-05 - accuracy: 1.0000\n",
      "Epoch 78/100\n",
      "238/238 [==============================] - 0s 293us/step - loss: 5.5186e-05 - accuracy: 1.0000\n",
      "Epoch 79/100\n",
      "238/238 [==============================] - 0s 285us/step - loss: 5.2449e-05 - accuracy: 1.0000\n",
      "Epoch 80/100\n",
      "238/238 [==============================] - 0s 423us/step - loss: 5.0210e-05 - accuracy: 1.0000\n",
      "Epoch 81/100\n",
      "238/238 [==============================] - 0s 302us/step - loss: 4.8939e-05 - accuracy: 1.0000\n",
      "Epoch 82/100\n",
      "238/238 [==============================] - 0s 308us/step - loss: 4.7054e-05 - accuracy: 1.0000\n",
      "Epoch 83/100\n",
      "238/238 [==============================] - 0s 348us/step - loss: 4.5254e-05 - accuracy: 1.0000\n",
      "Epoch 84/100\n",
      "238/238 [==============================] - 0s 285us/step - loss: 4.3855e-05 - accuracy: 1.0000\n",
      "Epoch 85/100\n",
      "238/238 [==============================] - 0s 306us/step - loss: 4.2419e-05 - accuracy: 1.0000\n",
      "Epoch 86/100\n",
      "238/238 [==============================] - 0s 398us/step - loss: 4.1078e-05 - accuracy: 1.0000\n",
      "Epoch 87/100\n",
      "238/238 [==============================] - 0s 404us/step - loss: 3.9567e-05 - accuracy: 1.0000\n",
      "Epoch 88/100\n",
      "238/238 [==============================] - 0s 360us/step - loss: 3.8362e-05 - accuracy: 1.0000\n",
      "Epoch 89/100\n",
      "238/238 [==============================] - 0s 335us/step - loss: 3.7432e-05 - accuracy: 1.0000\n",
      "Epoch 90/100\n",
      "238/238 [==============================] - 0s 272us/step - loss: 3.6066e-05 - accuracy: 1.0000\n",
      "Epoch 91/100\n",
      "238/238 [==============================] - 0s 339us/step - loss: 3.5315e-05 - accuracy: 1.0000\n",
      "Epoch 92/100\n",
      "238/238 [==============================] - 0s 281us/step - loss: 3.3982e-05 - accuracy: 1.0000\n",
      "Epoch 93/100\n",
      "238/238 [==============================] - 0s 398us/step - loss: 3.2843e-05 - accuracy: 1.0000\n",
      "Epoch 94/100\n",
      "238/238 [==============================] - 0s 310us/step - loss: 3.1966e-05 - accuracy: 1.0000\n",
      "Epoch 95/100\n",
      "238/238 [==============================] - 0s 361us/step - loss: 3.1022e-05 - accuracy: 1.0000\n",
      "Epoch 96/100\n",
      "238/238 [==============================] - 0s 298us/step - loss: 3.0100e-05 - accuracy: 1.0000\n",
      "Epoch 97/100\n",
      "238/238 [==============================] - 0s 277us/step - loss: 2.9229e-05 - accuracy: 1.0000\n",
      "Epoch 98/100\n",
      "238/238 [==============================] - 0s 348us/step - loss: 2.8376e-05 - accuracy: 1.0000\n",
      "Epoch 99/100\n",
      "238/238 [==============================] - 0s 256us/step - loss: 2.7596e-05 - accuracy: 1.0000\n",
      "Epoch 100/100\n",
      "238/238 [==============================] - 0s 314us/step - loss: 2.6811e-05 - accuracy: 1.0000\n"
     ]
    }
   ],
   "source": [
    "#Build Model\n",
    "model = Sequential()\n",
    "model.add(Dense(64, input_dim=1003, activation='relu'))\n",
    "model.add(Dense(64, activation='relu'))\n",
    "model.add(Dense(32, activation='relu'))\n",
    "model.add(Dense(1, activation='sigmoid'))\n",
    "\n",
    "#Compile Model\n",
    "model.compile(loss='binary_crossentropy', optimizer='adam', metrics=['accuracy'])\n",
    "\n",
    "#Fit Model\n",
    "model.fit(X_train, Y_train, epochs=100, batch_size=10)\n",
    "\n",
    "#Predict\n",
    "pred_train = model.predict_classes(X_train)\n",
    "pred_test = model.predict_classes(X_test)"
   ]
  },
  {
   "cell_type": "code",
   "execution_count": 12,
   "metadata": {},
   "outputs": [],
   "source": [
    "#Generate Confusion Matrices\n",
    "confusion_train = confusion_matrix(Y_train, pred_train)\n",
    "confusion_test = confusion_matrix(Y_test, pred_test)"
   ]
  },
  {
   "cell_type": "code",
   "execution_count": 13,
   "metadata": {},
   "outputs": [
    {
     "data": {
      "image/png": "[encoded data removed]",
      "text/plain": [
       "<Figure size 432x288 with 2 Axes>"
      ]
     },
     "metadata": {
      "needs_background": "light"
     },
     "output_type": "display_data"
    }
   ],
   "source": [
    "#Plot Confusion Matrix for Training Data\n",
    "plot_confusion_matrix(confusion_train, \"Training\")"
   ]
  },
  {
   "cell_type": "code",
   "execution_count": 14,
   "metadata": {},
   "outputs": [
    {
     "data": {
      "image/png": "[encoded data removed]",
      "text/plain": [
       "<Figure size 432x288 with 2 Axes>"
      ]
     },
     "metadata": {
      "needs_background": "light"
     },
     "output_type": "display_data"
    }
   ],
   "source": [
    "#Plot Confusion Matrix for Test Data\n",
    "plot_confusion_matrix(confusion_test, \"Test\")"
   ]
  },
  {
   "cell_type": "code",
   "execution_count": 15,
   "metadata": {},
   "outputs": [
    {
     "data": {
      "text/html": [
       "<div>\n",
       "<style scoped>\n",
       "    .dataframe tbody tr th:only-of-type {\n",
       "        vertical-align: middle;\n",
       "    }\n",
       "\n",
       "    .dataframe tbody tr th {\n",
       "        vertical-align: top;\n",
       "    }\n",
       "\n",
       "    .dataframe thead th {\n",
       "        text-align: right;\n",
       "    }\n",
       "</style>\n",
       "<table border=\"1\" class=\"dataframe\">\n",
       "  <thead>\n",
       "    <tr style=\"text-align: right;\">\n",
       "      <th></th>\n",
       "      <th>Recall</th>\n",
       "      <th>Precision</th>\n",
       "      <th>F1 Score</th>\n",
       "      <th>Accuracy</th>\n",
       "    </tr>\n",
       "    <tr>\n",
       "      <th>Dataset</th>\n",
       "      <th></th>\n",
       "      <th></th>\n",
       "      <th></th>\n",
       "      <th></th>\n",
       "    </tr>\n",
       "  </thead>\n",
       "  <tbody>\n",
       "    <tr>\n",
       "      <th>Training</th>\n",
       "      <td>1.000000</td>\n",
       "      <td>1.00</td>\n",
       "      <td>1.000000</td>\n",
       "      <td>1.000000</td>\n",
       "    </tr>\n",
       "    <tr>\n",
       "      <th>Test</th>\n",
       "      <td>0.872727</td>\n",
       "      <td>0.75</td>\n",
       "      <td>0.806723</td>\n",
       "      <td>0.772277</td>\n",
       "    </tr>\n",
       "  </tbody>\n",
       "</table>\n",
       "</div>"
      ],
      "text/plain": [
       "            Recall  Precision  F1 Score  Accuracy\n",
       "Dataset                                          \n",
       "Training  1.000000       1.00  1.000000  1.000000\n",
       "Test      0.872727       0.75  0.806723  0.772277"
      ]
     },
     "execution_count": 15,
     "metadata": {},
     "output_type": "execute_result"
    }
   ],
   "source": [
    "#Calculate Metrics\n",
    "table = create_metrics_table(Y_train, pred_train, Y_test, pred_test)\n",
    "table"
   ]
  },
  {
   "cell_type": "code",
   "execution_count": 16,
   "metadata": {},
   "outputs": [
    {
     "data": {
      "image/png": "[encoded data removed]",
      "text/plain": [
       "<Figure size 432x288 with 1 Axes>"
      ]
     },
     "metadata": {
      "needs_background": "light"
     },
     "output_type": "display_data"
    }
   ],
   "source": [
    "#Generate ROC Curves for Training\n",
    "pred_train_prob = model.predict(X_train)\n",
    "FPR_train, TPR_train, Threshold_train = roc_curve(Y_train, pred_train_prob)\n",
    "\n",
    "#Plot ROC Curve for Training Data\n",
    "plot_ROC_curve(FPR_train, TPR_train, \"Training\")"
   ]
  },
  {
   "cell_type": "code",
   "execution_count": 10,
   "metadata": {},
   "outputs": [
    {
     "data": {
      "image/png": "[encoded data removed]",
      "text/plain": [
       "<Figure size 432x288 with 1 Axes>"
      ]
     },
     "metadata": {
      "needs_background": "light"
     },
     "output_type": "display_data"
    }
   ],
   "source": [
    "#Generate ROC Curves for Test\n",
    "pred_test_prob = model.predict(X_test)\n",
    "FPR_test, TPR_test, Threshold_test = roc_curve(Y_test, pred_test_prob)\n",
    "\n",
    "#Plot ROC Curve for Training Data\n",
    "plot_ROC_curve(FPR_test, TPR_test, \"Test\")"
   ]
  }
 ],
 "metadata": {
  "kernelspec": {
   "display_name": "Python 3",
   "language": "python",
   "name": "python3"
  },
  "language_info": {
   "codemirror_mode": {
    "name": "ipython",
    "version": 3
   },
   "file_extension": ".py",
   "mimetype": "text/x-python",
   "name": "python",
   "nbconvert_exporter": "python",
   "pygments_lexer": "ipython3",
   "version": "3.7.6"
  }
 },
 "nbformat": 4,
 "nbformat_minor": 4
}
