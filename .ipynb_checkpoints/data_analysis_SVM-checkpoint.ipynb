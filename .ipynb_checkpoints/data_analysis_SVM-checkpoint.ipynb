{
 "cells": [
  {
   "cell_type": "markdown",
   "metadata": {},
   "source": [
    "# Preprocessing"
   ]
  },
  {
   "cell_type": "code",
   "execution_count": null,
   "metadata": {},
   "outputs": [
    {
     "name": "stderr",
     "output_type": "stream",
     "text": [
      "Using TensorFlow backend.\n"
     ]
    }
   ],
   "source": [
    "%run project_functions.ipynb"
   ]
  },
  {
   "cell_type": "code",
   "execution_count": null,
   "metadata": {},
   "outputs": [],
   "source": [
    "file_name = 'FB.json'\n",
    "csv_name = 'FB.csv'"
   ]
  },
  {
   "cell_type": "code",
   "execution_count": null,
   "metadata": {},
   "outputs": [],
   "source": [
    "#Features\n",
    "company = stock_twits_text_parser(file_name)\n",
    "company_metrics = stock_twits_metrics(company, 3, file_name)\n",
    "\n",
    "#Labels\n",
    "company_return = return_over_period_T(csv_name,3)\n",
    "\n",
    "#Cleaned Data\n",
    "agg_data = feature_selector(company_metrics, company_return, 'close_return', 25, 1000)\n",
    "company_data = split_data(agg_data, 0.7, 'all', 'close_return', 'bin')\n",
    "\n",
    "#Split\n",
    "X_train = company_data['X_train']\n",
    "Y_train = company_data['Y_train']\n",
    "X_test = company_data['X_test']\n",
    "Y_test = company_data['Y_test']\n",
    "\n",
    "#Define Values for Regularization Parameter\n",
    "reg_vals = [1e-5, 1e-4, 1e-3, 1e-2, 1e-1, 1, 1e1, 1e2, 1e3, 1e4, 1e5]"
   ]
  },
  {
   "cell_type": "markdown",
   "metadata": {},
   "source": [
    "# Support Vector Machine - Linear"
   ]
  },
  {
   "cell_type": "code",
   "execution_count": null,
   "metadata": {},
   "outputs": [],
   "source": [
    "#Find Best Model\n",
    "clf_lin_svc =  get_best_SVC('linear', reg_vals, 5, X_train, Y_train)\n",
    "\n",
    "#Predict\n",
    "pred_train_lin_svc = clf_lin_svc.predict(X_train)\n",
    "pred_test_lin_svc = clf_lin_svc.predict(X_test)"
   ]
  },
  {
   "cell_type": "code",
   "execution_count": null,
   "metadata": {},
   "outputs": [],
   "source": [
    "#Generate Confusion Matrices\n",
    "confusion_train_lin_svc = confusion_matrix(Y_train, pred_train_lin_svc)\n",
    "confusion_test_lin_svc = confusion_matrix(Y_test, pred_test_lin_svc)"
   ]
  },
  {
   "cell_type": "code",
   "execution_count": null,
   "metadata": {},
   "outputs": [],
   "source": [
    "#Plot Confusion Matrix for Training Data\n",
    "plot_confusion_matrix(confusion_train_lin_svc, \"Training\")"
   ]
  },
  {
   "cell_type": "code",
   "execution_count": null,
   "metadata": {},
   "outputs": [],
   "source": [
    "#Plot Confusion Matrix for Test Data\n",
    "plot_confusion_matrix(confusion_test_lin_svc, \"Test\")"
   ]
  },
  {
   "cell_type": "code",
   "execution_count": null,
   "metadata": {},
   "outputs": [],
   "source": [
    "#Calculate Metrics\n",
    "tablelin_svc = create_metrics_table(Y_train, pred_train_lin_svc, Y_test, pred_test_lin_svc)\n",
    "tablelin_svc"
   ]
  },
  {
   "cell_type": "code",
   "execution_count": null,
   "metadata": {},
   "outputs": [],
   "source": [
    "#Generate ROC Curves for Training\n",
    "pred_train_prob_lin_svc = clf_lin_svc.decision_function(X_train)\n",
    "FPR_train, TPR_train, Threshold_train = roc_curve(Y_train, pred_train_prob_lin_svc)\n",
    "\n",
    "#Plot ROC Curve for Training Data\n",
    "plot_ROC_curve(FPR_train, TPR_train, \"Training\")"
   ]
  },
  {
   "cell_type": "code",
   "execution_count": null,
   "metadata": {},
   "outputs": [],
   "source": [
    "#Generate ROC Curves for Test\n",
    "pred_test_prob_lin_svc = clf_lin_svc.decision_function(X_test)\n",
    "FPR_test, TPR_test, Threshold_test = roc_curve(Y_test, pred_test_prob_lin_svc)\n",
    "\n",
    "#Plot ROC Curve for Test Data\n",
    "plot_ROC_curve(FPR_test, TPR_test, \"Test\")"
   ]
  },
  {
   "cell_type": "markdown",
   "metadata": {},
   "source": [
    "# Support Vector Machine - All"
   ]
  },
  {
   "cell_type": "code",
   "execution_count": null,
   "metadata": {},
   "outputs": [],
   "source": [
    "#Find Best Model\n",
    "clf_svc =  get_best_SVC('all', reg_vals, 5, X_train, Y_train)\n",
    "\n",
    "#Predict\n",
    "pred_train_svc = clf_svc.predict(X_train)\n",
    "pred_test_svc = clf_svc.predict(X_test)"
   ]
  },
  {
   "cell_type": "code",
   "execution_count": null,
   "metadata": {},
   "outputs": [],
   "source": [
    "#Generate Confusion Matrices\n",
    "confusion_train_svc = confusion_matrix(Y_train, pred_train_svc)\n",
    "confusion_test_svc = confusion_matrix(Y_test, pred_test_svc)"
   ]
  },
  {
   "cell_type": "code",
   "execution_count": null,
   "metadata": {},
   "outputs": [],
   "source": [
    "#Plot Confusion Matrix for Training Data\n",
    "plot_confusion_matrix(confusion_train_svc, \"Training\")"
   ]
  },
  {
   "cell_type": "code",
   "execution_count": null,
   "metadata": {},
   "outputs": [],
   "source": [
    "#Plot Confusion Matrix for Test Data\n",
    "plot_confusion_matrix(confusion_test_svc, \"Test\")"
   ]
  },
  {
   "cell_type": "code",
   "execution_count": null,
   "metadata": {},
   "outputs": [],
   "source": [
    "#Calculate Metrics\n",
    "tablesvc = create_metrics_table(Y_train, pred_train_svc, Y_test, pred_test_svc)\n",
    "tablesvc"
   ]
  },
  {
   "cell_type": "code",
   "execution_count": null,
   "metadata": {},
   "outputs": [],
   "source": [
    "#Generate ROC Curves for Training\n",
    "pred_train_prob_svc = clf_svc.decision_function(X_train)\n",
    "FPR_train, TPR_train, Threshold_train = roc_curve(Y_train, pred_train_prob_svc)\n",
    "\n",
    "#Plot ROC Curve for Training Data\n",
    "plot_ROC_curve(FPR_train, TPR_train, \"Training\")"
   ]
  },
  {
   "cell_type": "code",
   "execution_count": null,
   "metadata": {},
   "outputs": [],
   "source": [
    "#Generate ROC Curves for Test\n",
    "pred_test_prob_svc = clf_svc.decision_function(X_test)\n",
    "FPR_test, TPR_test, Threshold_test = roc_curve(Y_test, pred_test_prob_svc)\n",
    "\n",
    "#Plot ROC Curve for Test Data\n",
    "plot_ROC_curve(FPR_test, TPR_test, \"Test\")"
   ]
  }
 ],
 "metadata": {
  "kernelspec": {
   "display_name": "Python 3",
   "language": "python",
   "name": "python3"
  },
  "language_info": {
   "codemirror_mode": {
    "name": "ipython",
    "version": 3
   },
   "file_extension": ".py",
   "mimetype": "text/x-python",
   "name": "python",
   "nbconvert_exporter": "python",
   "pygments_lexer": "ipython3",
   "version": "3.7.6"
  }
 },
 "nbformat": 4,
 "nbformat_minor": 4
}
