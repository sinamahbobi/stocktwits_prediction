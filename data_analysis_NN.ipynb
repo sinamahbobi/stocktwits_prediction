{
 "cells": [
  {
   "cell_type": "code",
   "execution_count": 1,
   "metadata": {},
   "outputs": [
    {
     "name": "stderr",
     "output_type": "stream",
     "text": [
      "Using TensorFlow backend.\n"
     ]
    }
   ],
   "source": [
    "%run project_functions.ipynb"
   ]
  },
  {
   "cell_type": "code",
   "execution_count": 2,
   "metadata": {},
   "outputs": [],
   "source": [
    "file_name = 'FB.txt'\n",
    "csv_name = 'FB.csv'"
   ]
  },
  {
   "cell_type": "code",
   "execution_count": 3,
   "metadata": {},
   "outputs": [],
   "source": [
    "#Features\n",
    "company = stock_twits_text_parser(file_name)\n",
    "company_metrics = stock_twits_metrics(company, 3, file_name)\n",
    "\n",
    "#Labels\n",
    "company_return = return_over_period_T(csv_name,3)\n",
    "\n",
    "#Cleaned Data\n",
    "agg_data = feature_selector(company_metrics, company_return, 'close_return', 25, 1000)\n",
    "company_data = split_data(agg_data, 0.7, 'all', 'close_return', 'bin')\n",
    "\n",
    "#Split\n",
    "X_train = company_data['X_train']\n",
    "Y_train = company_data['Y_train']\n",
    "X_test = company_data['X_test']\n",
    "Y_test = company_data['Y_test']"
   ]
  },
  {
   "cell_type": "code",
   "execution_count": 12,
   "metadata": {},
   "outputs": [
    {
     "name": "stdout",
     "output_type": "stream",
     "text": [
      "Epoch 1/100\n",
      "238/238 [==============================] - 0s 2ms/step - loss: 0.6774 - accuracy: 0.5924\n",
      "Epoch 2/100\n",
      "238/238 [==============================] - 0s 314us/step - loss: 0.6640 - accuracy: 0.5756\n",
      "Epoch 3/100\n",
      "238/238 [==============================] - 0s 344us/step - loss: 0.6420 - accuracy: 0.7269\n",
      "Epoch 4/100\n",
      "238/238 [==============================] - 0s 394us/step - loss: 0.6072 - accuracy: 0.7185\n",
      "Epoch 5/100\n",
      "238/238 [==============================] - 0s 293us/step - loss: 0.5336 - accuracy: 0.7983\n",
      "Epoch 6/100\n",
      "238/238 [==============================] - 0s 515us/step - loss: 0.4334 - accuracy: 0.8739\n",
      "Epoch 7/100\n",
      "238/238 [==============================] - 0s 272us/step - loss: 0.3498 - accuracy: 0.9202\n",
      "Epoch 8/100\n",
      "238/238 [==============================] - 0s 268us/step - loss: 0.2215 - accuracy: 0.9706\n",
      "Epoch 9/100\n",
      "238/238 [==============================] - 0s 302us/step - loss: 0.1505 - accuracy: 0.9706\n",
      "Epoch 10/100\n",
      "238/238 [==============================] - 0s 377us/step - loss: 0.0991 - accuracy: 0.9832\n",
      "Epoch 11/100\n",
      "238/238 [==============================] - 0s 440us/step - loss: 0.0619 - accuracy: 0.9958\n",
      "Epoch 12/100\n",
      "238/238 [==============================] - 0s 298us/step - loss: 0.0388 - accuracy: 0.9958\n",
      "Epoch 13/100\n",
      "238/238 [==============================] - 0s 302us/step - loss: 0.0288 - accuracy: 1.0000\n",
      "Epoch 14/100\n",
      "238/238 [==============================] - 0s 339us/step - loss: 0.0200 - accuracy: 1.0000\n",
      "Epoch 15/100\n",
      "238/238 [==============================] - 0s 327us/step - loss: 0.0138 - accuracy: 1.0000\n",
      "Epoch 16/100\n",
      "238/238 [==============================] - 0s 314us/step - loss: 0.0145 - accuracy: 1.0000\n",
      "Epoch 17/100\n",
      "238/238 [==============================] - 0s 314us/step - loss: 0.0116 - accuracy: 1.0000\n",
      "Epoch 18/100\n",
      "238/238 [==============================] - 0s 553us/step - loss: 0.0073 - accuracy: 1.0000\n",
      "Epoch 19/100\n",
      "238/238 [==============================] - 0s 423us/step - loss: 0.0063 - accuracy: 1.0000\n",
      "Epoch 20/100\n",
      "238/238 [==============================] - 0s 317us/step - loss: 0.0074 - accuracy: 1.0000\n",
      "Epoch 21/100\n",
      "238/238 [==============================] - 0s 348us/step - loss: 0.0072 - accuracy: 1.0000\n",
      "Epoch 22/100\n",
      "238/238 [==============================] - 0s 281us/step - loss: 0.0050 - accuracy: 1.0000\n",
      "Epoch 23/100\n",
      "238/238 [==============================] - 0s 323us/step - loss: 0.0044 - accuracy: 1.0000\n",
      "Epoch 24/100\n",
      "238/238 [==============================] - 0s 318us/step - loss: 0.0027 - accuracy: 1.0000\n",
      "Epoch 25/100\n",
      "238/238 [==============================] - 0s 289us/step - loss: 0.0025 - accuracy: 1.0000\n",
      "Epoch 26/100\n",
      "238/238 [==============================] - 0s 319us/step - loss: 0.0022 - accuracy: 1.0000\n",
      "Epoch 27/100\n",
      "238/238 [==============================] - 0s 285us/step - loss: 0.0019 - accuracy: 1.0000\n",
      "Epoch 28/100\n",
      "238/238 [==============================] - 0s 331us/step - loss: 0.0018 - accuracy: 1.0000\n",
      "Epoch 29/100\n",
      "238/238 [==============================] - 0s 390us/step - loss: 0.0017 - accuracy: 1.0000\n",
      "Epoch 30/100\n",
      "238/238 [==============================] - 0s 293us/step - loss: 0.0015 - accuracy: 1.0000\n",
      "Epoch 31/100\n",
      "238/238 [==============================] - 0s 520us/step - loss: 0.0014 - accuracy: 1.0000TA: 0s - loss: 0.0013 - accuracy: 1.0000\n",
      "Epoch 32/100\n",
      "238/238 [==============================] - 0s 327us/step - loss: 0.0013 - accuracy: 1.0000\n",
      "Epoch 33/100\n",
      "238/238 [==============================] - 0s 337us/step - loss: 0.0012 - accuracy: 1.0000\n",
      "Epoch 34/100\n",
      "238/238 [==============================] - 0s 419us/step - loss: 0.0011 - accuracy: 1.0000\n",
      "Epoch 35/100\n",
      "238/238 [==============================] - 0s 432us/step - loss: 0.0010 - accuracy: 1.0000\n",
      "Epoch 36/100\n",
      "238/238 [==============================] - 0s 545us/step - loss: 9.5394e-04 - accuracy: 1.0000\n",
      "Epoch 37/100\n",
      "238/238 [==============================] - 0s 381us/step - loss: 9.1942e-04 - accuracy: 1.0000\n",
      "Epoch 38/100\n",
      "238/238 [==============================] - 0s 394us/step - loss: 8.4550e-04 - accuracy: 1.0000\n",
      "Epoch 39/100\n",
      "238/238 [==============================] - 0s 373us/step - loss: 8.0426e-04 - accuracy: 1.0000\n",
      "Epoch 40/100\n",
      "238/238 [==============================] - 0s 335us/step - loss: 7.2587e-04 - accuracy: 1.0000\n",
      "Epoch 41/100\n",
      "238/238 [==============================] - 0s 327us/step - loss: 6.9542e-04 - accuracy: 1.0000\n",
      "Epoch 42/100\n",
      "238/238 [==============================] - 0s 639us/step - loss: 6.5158e-04 - accuracy: 1.0000\n",
      "Epoch 43/100\n",
      "238/238 [==============================] - 0s 318us/step - loss: 6.1020e-04 - accuracy: 1.0000\n",
      "Epoch 44/100\n",
      "238/238 [==============================] - 0s 352us/step - loss: 5.8492e-04 - accuracy: 1.0000\n",
      "Epoch 45/100\n",
      "238/238 [==============================] - 0s 402us/step - loss: 5.5011e-04 - accuracy: 1.0000\n",
      "Epoch 46/100\n",
      "238/238 [==============================] - 0s 318us/step - loss: 5.2505e-04 - accuracy: 1.0000\n",
      "Epoch 47/100\n",
      "238/238 [==============================] - 0s 436us/step - loss: 4.9778e-04 - accuracy: 1.0000\n",
      "Epoch 48/100\n",
      "238/238 [==============================] - 0s 470us/step - loss: 4.7661e-04 - accuracy: 1.0000\n",
      "Epoch 49/100\n",
      "238/238 [==============================] - 0s 331us/step - loss: 4.4717e-04 - accuracy: 1.0000\n",
      "Epoch 50/100\n",
      "238/238 [==============================] - 0s 373us/step - loss: 4.3237e-04 - accuracy: 1.0000\n",
      "Epoch 51/100\n",
      "238/238 [==============================] - 0s 360us/step - loss: 4.0887e-04 - accuracy: 1.0000\n",
      "Epoch 52/100\n",
      "238/238 [==============================] - 0s 599us/step - loss: 3.9340e-04 - accuracy: 1.0000\n",
      "Epoch 53/100\n",
      "238/238 [==============================] - 0s 411us/step - loss: 3.7513e-04 - accuracy: 1.0000\n",
      "Epoch 54/100\n",
      "238/238 [==============================] - 0s 360us/step - loss: 3.6040e-04 - accuracy: 1.0000\n",
      "Epoch 55/100\n",
      "238/238 [==============================] - 0s 318us/step - loss: 3.4344e-04 - accuracy: 1.0000\n",
      "Epoch 56/100\n",
      "238/238 [==============================] - 0s 268us/step - loss: 3.2874e-04 - accuracy: 1.0000\n",
      "Epoch 57/100\n",
      "238/238 [==============================] - 0s 298us/step - loss: 3.1946e-04 - accuracy: 1.0000\n",
      "Epoch 58/100\n",
      "238/238 [==============================] - 0s 251us/step - loss: 3.0240e-04 - accuracy: 1.0000\n",
      "Epoch 59/100\n",
      "238/238 [==============================] - 0s 260us/step - loss: 2.9494e-04 - accuracy: 1.0000\n",
      "Epoch 60/100\n",
      "238/238 [==============================] - 0s 248us/step - loss: 2.7780e-04 - accuracy: 1.0000\n",
      "Epoch 61/100\n",
      "238/238 [==============================] - 0s 394us/step - loss: 2.6732e-04 - accuracy: 1.0000\n",
      "Epoch 62/100\n",
      "238/238 [==============================] - 0s 394us/step - loss: 2.6073e-04 - accuracy: 1.0000\n",
      "Epoch 63/100\n",
      "238/238 [==============================] - 0s 264us/step - loss: 2.4667e-04 - accuracy: 1.0000\n",
      "Epoch 64/100\n",
      "238/238 [==============================] - 0s 314us/step - loss: 2.4067e-04 - accuracy: 1.0000\n",
      "Epoch 65/100\n",
      "238/238 [==============================] - 0s 683us/step - loss: 2.2855e-04 - accuracy: 1.0000\n",
      "Epoch 66/100\n",
      "238/238 [==============================] - 0s 374us/step - loss: 2.2332e-04 - accuracy: 1.0000\n",
      "Epoch 67/100\n",
      "238/238 [==============================] - 0s 437us/step - loss: 2.1409e-04 - accuracy: 1.0000\n",
      "Epoch 68/100\n",
      "238/238 [==============================] - 0s 494us/step - loss: 2.0533e-04 - accuracy: 1.0000\n",
      "Epoch 69/100\n",
      "238/238 [==============================] - 0s 339us/step - loss: 1.9853e-04 - accuracy: 1.0000\n",
      "Epoch 70/100\n",
      "238/238 [==============================] - 0s 356us/step - loss: 1.9210e-04 - accuracy: 1.0000\n",
      "Epoch 71/100\n",
      "238/238 [==============================] - 0s 285us/step - loss: 1.8564e-04 - accuracy: 1.0000\n",
      "Epoch 72/100\n",
      "238/238 [==============================] - 0s 268us/step - loss: 1.7932e-04 - accuracy: 1.0000\n",
      "Epoch 73/100\n",
      "238/238 [==============================] - 0s 465us/step - loss: 1.7311e-04 - accuracy: 1.0000\n",
      "Epoch 74/100\n",
      "238/238 [==============================] - 0s 386us/step - loss: 1.6747e-04 - accuracy: 1.0000\n",
      "Epoch 75/100\n",
      "238/238 [==============================] - 0s 591us/step - loss: 1.6407e-04 - accuracy: 1.0000\n",
      "Epoch 76/100\n",
      "238/238 [==============================] - 0s 419us/step - loss: 1.5738e-04 - accuracy: 1.0000\n",
      "Epoch 77/100\n"
     ]
    },
    {
     "name": "stdout",
     "output_type": "stream",
     "text": [
      "238/238 [==============================] - 0s 327us/step - loss: 1.5294e-04 - accuracy: 1.0000\n",
      "Epoch 78/100\n",
      "238/238 [==============================] - 0s 272us/step - loss: 1.4772e-04 - accuracy: 1.0000\n",
      "Epoch 79/100\n",
      "238/238 [==============================] - 0s 344us/step - loss: 1.4507e-04 - accuracy: 1.0000\n",
      "Epoch 80/100\n",
      "238/238 [==============================] - 0s 406us/step - loss: 1.4083e-04 - accuracy: 1.0000\n",
      "Epoch 81/100\n",
      "238/238 [==============================] - 0s 302us/step - loss: 1.3447e-04 - accuracy: 1.0000\n",
      "Epoch 82/100\n",
      "238/238 [==============================] - 0s 277us/step - loss: 1.3156e-04 - accuracy: 1.0000\n",
      "Epoch 83/100\n",
      "238/238 [==============================] - 0s 402us/step - loss: 1.2770e-04 - accuracy: 1.0000\n",
      "Epoch 84/100\n",
      "238/238 [==============================] - 0s 331us/step - loss: 1.2374e-04 - accuracy: 1.0000\n",
      "Epoch 85/100\n",
      "238/238 [==============================] - 0s 281us/step - loss: 1.1991e-04 - accuracy: 1.0000\n",
      "Epoch 86/100\n",
      "238/238 [==============================] - 0s 256us/step - loss: 1.1711e-04 - accuracy: 1.0000\n",
      "Epoch 87/100\n",
      "238/238 [==============================] - 0s 595us/step - loss: 1.1470e-04 - accuracy: 1.0000\n",
      "Epoch 88/100\n",
      "238/238 [==============================] - 0s 335us/step - loss: 1.1155e-04 - accuracy: 1.0000\n",
      "Epoch 89/100\n",
      "238/238 [==============================] - 0s 268us/step - loss: 1.0941e-04 - accuracy: 1.0000\n",
      "Epoch 90/100\n",
      "238/238 [==============================] - 0s 432us/step - loss: 1.0388e-04 - accuracy: 1.0000\n",
      "Epoch 91/100\n",
      "238/238 [==============================] - 0s 507us/step - loss: 1.0142e-04 - accuracy: 1.0000\n",
      "Epoch 92/100\n",
      "238/238 [==============================] - 0s 298us/step - loss: 1.0174e-04 - accuracy: 1.0000\n",
      "Epoch 93/100\n",
      "238/238 [==============================] - 0s 306us/step - loss: 9.8873e-05 - accuracy: 1.0000\n",
      "Epoch 94/100\n",
      "238/238 [==============================] - 0s 339us/step - loss: 9.3297e-05 - accuracy: 1.0000\n",
      "Epoch 95/100\n",
      "238/238 [==============================] - 0s 406us/step - loss: 9.1136e-05 - accuracy: 1.0000\n",
      "Epoch 96/100\n",
      "238/238 [==============================] - 0s 394us/step - loss: 8.9836e-05 - accuracy: 1.0000\n",
      "Epoch 97/100\n",
      "238/238 [==============================] - 0s 285us/step - loss: 8.7612e-05 - accuracy: 1.0000\n",
      "Epoch 98/100\n",
      "238/238 [==============================] - 0s 696us/step - loss: 8.4181e-05 - accuracy: 1.0000\n",
      "Epoch 99/100\n",
      "238/238 [==============================] - 0s 377us/step - loss: 8.2202e-05 - accuracy: 1.0000\n",
      "Epoch 100/100\n",
      "238/238 [==============================] - 0s 285us/step - loss: 7.9802e-05 - accuracy: 1.0000\n"
     ]
    }
   ],
   "source": [
    "#Build Model\n",
    "model = build_neural_network_cf(1003)\n",
    "\n",
    "#Fit Model\n",
    "model.fit(X_train, Y_train, epochs=100, batch_size=10)\n",
    "\n",
    "#Predict\n",
    "pred_train = model.predict_classes(X_train)\n",
    "pred_test = model.predict_classes(X_test)"
   ]
  },
  {
   "cell_type": "code",
   "execution_count": 6,
   "metadata": {},
   "outputs": [],
   "source": [
    "#Generate Confusion Matrices\n",
    "confusion_train = confusion_matrix(Y_train, pred_train)\n",
    "confusion_test = confusion_matrix(Y_test, pred_test)"
   ]
  },
  {
   "cell_type": "code",
   "execution_count": 7,
   "metadata": {},
   "outputs": [
    {
     "data": {
      "image/png": "[encoded data removed]",
      "text/plain": [
       "<Figure size 432x288 with 2 Axes>"
      ]
     },
     "metadata": {
      "needs_background": "light"
     },
     "output_type": "display_data"
    }
   ],
   "source": [
    "#Plot Confusion Matrix for Training Data\n",
    "plot_confusion_matrix(confusion_train, \"Training\")"
   ]
  },
  {
   "cell_type": "code",
   "execution_count": 8,
   "metadata": {},
   "outputs": [
    {
     "data": {
      "image/png": "[encoded data removed]",
      "text/plain": [
       "<Figure size 432x288 with 2 Axes>"
      ]
     },
     "metadata": {
      "needs_background": "light"
     },
     "output_type": "display_data"
    }
   ],
   "source": [
    "#Plot Confusion Matrix for Test Data\n",
    "plot_confusion_matrix(confusion_test, \"Test\")"
   ]
  },
  {
   "cell_type": "code",
   "execution_count": 9,
   "metadata": {},
   "outputs": [
    {
     "data": {
      "text/html": [
       "<div>\n",
       "<style scoped>\n",
       "    .dataframe tbody tr th:only-of-type {\n",
       "        vertical-align: middle;\n",
       "    }\n",
       "\n",
       "    .dataframe tbody tr th {\n",
       "        vertical-align: top;\n",
       "    }\n",
       "\n",
       "    .dataframe thead th {\n",
       "        text-align: right;\n",
       "    }\n",
       "</style>\n",
       "<table border=\"1\" class=\"dataframe\">\n",
       "  <thead>\n",
       "    <tr style=\"text-align: right;\">\n",
       "      <th></th>\n",
       "      <th>Recall</th>\n",
       "      <th>Precision</th>\n",
       "      <th>F1 Score</th>\n",
       "      <th>Accuracy</th>\n",
       "    </tr>\n",
       "    <tr>\n",
       "      <th>Dataset</th>\n",
       "      <th></th>\n",
       "      <th></th>\n",
       "      <th></th>\n",
       "      <th></th>\n",
       "    </tr>\n",
       "  </thead>\n",
       "  <tbody>\n",
       "    <tr>\n",
       "      <th>Training</th>\n",
       "      <td>1.000000</td>\n",
       "      <td>1.00</td>\n",
       "      <td>1.000000</td>\n",
       "      <td>1.000000</td>\n",
       "    </tr>\n",
       "    <tr>\n",
       "      <th>Test</th>\n",
       "      <td>0.763636</td>\n",
       "      <td>0.75</td>\n",
       "      <td>0.756757</td>\n",
       "      <td>0.732673</td>\n",
       "    </tr>\n",
       "  </tbody>\n",
       "</table>\n",
       "</div>"
      ],
      "text/plain": [
       "            Recall  Precision  F1 Score  Accuracy\n",
       "Dataset                                          \n",
       "Training  1.000000       1.00  1.000000  1.000000\n",
       "Test      0.763636       0.75  0.756757  0.732673"
      ]
     },
     "execution_count": 9,
     "metadata": {},
     "output_type": "execute_result"
    }
   ],
   "source": [
    "#Calculate Metrics\n",
    "table = create_metrics_table(Y_train, pred_train, Y_test, pred_test)\n",
    "table"
   ]
  },
  {
   "cell_type": "code",
   "execution_count": 10,
   "metadata": {},
   "outputs": [
    {
     "data": {
      "image/png": "[encoded data removed]",
      "text/plain": [
       "<Figure size 432x288 with 1 Axes>"
      ]
     },
     "metadata": {
      "needs_background": "light"
     },
     "output_type": "display_data"
    }
   ],
   "source": [
    "#Generate ROC Curves for Training\n",
    "pred_train_prob = model.predict(X_train)\n",
    "FPR_train, TPR_train, Threshold_train = roc_curve(Y_train, pred_train_prob)\n",
    "\n",
    "#Plot ROC Curve for Training Data\n",
    "plot_ROC_curve(FPR_train, TPR_train, \"Training\")"
   ]
  },
  {
   "cell_type": "code",
   "execution_count": 11,
   "metadata": {},
   "outputs": [
    {
     "data": {
      "image/png": "[encoded data removed]",
      "text/plain": [
       "<Figure size 432x288 with 1 Axes>"
      ]
     },
     "metadata": {
      "needs_background": "light"
     },
     "output_type": "display_data"
    }
   ],
   "source": [
    "#Generate ROC Curves for Test\n",
    "pred_test_prob = model.predict(X_test)\n",
    "FPR_test, TPR_test, Threshold_test = roc_curve(Y_test, pred_test_prob)\n",
    "\n",
    "#Plot ROC Curve for Training Data\n",
    "plot_ROC_curve(FPR_test, TPR_test, \"Test\")"
   ]
  },
  {
   "cell_type": "code",
   "execution_count": null,
   "metadata": {},
   "outputs": [],
   "source": []
  }
 ],
 "metadata": {
  "kernelspec": {
   "display_name": "Python 3",
   "language": "python",
   "name": "python3"
  },
  "language_info": {
   "codemirror_mode": {
    "name": "ipython",
    "version": 3
   },
   "file_extension": ".py",
   "mimetype": "text/x-python",
   "name": "python",
   "nbconvert_exporter": "python",
   "pygments_lexer": "ipython3",
   "version": "3.7.3"
  }
 },
 "nbformat": 4,
 "nbformat_minor": 2
}
